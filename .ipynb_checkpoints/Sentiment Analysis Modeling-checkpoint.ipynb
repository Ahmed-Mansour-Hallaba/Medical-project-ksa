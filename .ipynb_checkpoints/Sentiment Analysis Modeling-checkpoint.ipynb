{
 "cells": [
  {
   "cell_type": "code",
   "execution_count": 1,
   "id": "f7835d58",
   "metadata": {},
   "outputs": [],
   "source": [
    "import numpy as np \n",
    "import pandas as pd\n",
    "from nltk.tokenize import TweetTokenizer\n",
    "from nltk.corpus import stopwords\n",
    "import string, re\n",
    "from nltk.stem import WordNetLemmatizer\n",
    "from sklearn.feature_extraction.text import CountVectorizer,TfidfVectorizer\n",
    "from sklearn.model_selection import train_test_split\n",
    "from sklearn.ensemble import RandomForestClassifier\n",
    "from sklearn.metrics import classification_report"
   ]
  },
  {
   "cell_type": "markdown",
   "id": "eacf05ba",
   "metadata": {},
   "source": [
    "# Importing Data"
   ]
  },
  {
   "cell_type": "code",
   "execution_count": 2,
   "id": "2ef90f3d",
   "metadata": {},
   "outputs": [],
   "source": [
    "tweets = pd.read_csv('Tweets1.csv')"
   ]
  },
  {
   "cell_type": "code",
   "execution_count": 3,
   "id": "1535c699",
   "metadata": {
    "scrolled": true
   },
   "outputs": [
    {
     "data": {
      "text/html": [
       "<div>\n",
       "<style scoped>\n",
       "    .dataframe tbody tr th:only-of-type {\n",
       "        vertical-align: middle;\n",
       "    }\n",
       "\n",
       "    .dataframe tbody tr th {\n",
       "        vertical-align: top;\n",
       "    }\n",
       "\n",
       "    .dataframe thead th {\n",
       "        text-align: right;\n",
       "    }\n",
       "</style>\n",
       "<table border=\"1\" class=\"dataframe\">\n",
       "  <thead>\n",
       "    <tr style=\"text-align: right;\">\n",
       "      <th></th>\n",
       "      <th>label</th>\n",
       "      <th>tweet</th>\n",
       "    </tr>\n",
       "  </thead>\n",
       "  <tbody>\n",
       "    <tr>\n",
       "      <th>0</th>\n",
       "      <td>neutral</td>\n",
       "      <td>@VirginAmerica What @dhepburn said.</td>\n",
       "    </tr>\n",
       "    <tr>\n",
       "      <th>1</th>\n",
       "      <td>positive</td>\n",
       "      <td>@VirginAmerica plus you've added commercials t...</td>\n",
       "    </tr>\n",
       "    <tr>\n",
       "      <th>2</th>\n",
       "      <td>neutral</td>\n",
       "      <td>@VirginAmerica I didn't today... Must mean I n...</td>\n",
       "    </tr>\n",
       "    <tr>\n",
       "      <th>3</th>\n",
       "      <td>negative</td>\n",
       "      <td>@VirginAmerica it's really aggressive to blast...</td>\n",
       "    </tr>\n",
       "    <tr>\n",
       "      <th>4</th>\n",
       "      <td>negative</td>\n",
       "      <td>@VirginAmerica and it's a really big bad thing...</td>\n",
       "    </tr>\n",
       "  </tbody>\n",
       "</table>\n",
       "</div>"
      ],
      "text/plain": [
       "      label                                              tweet\n",
       "0   neutral                @VirginAmerica What @dhepburn said.\n",
       "1  positive  @VirginAmerica plus you've added commercials t...\n",
       "2   neutral  @VirginAmerica I didn't today... Must mean I n...\n",
       "3  negative  @VirginAmerica it's really aggressive to blast...\n",
       "4  negative  @VirginAmerica and it's a really big bad thing..."
      ]
     },
     "execution_count": 3,
     "metadata": {},
     "output_type": "execute_result"
    }
   ],
   "source": [
    "tweets.head()\n"
   ]
  },
  {
   "cell_type": "code",
   "execution_count": 4,
   "id": "8bad4abe",
   "metadata": {},
   "outputs": [],
   "source": [
    "tweets_filtered = tweets[tweets['label'] != 'neutral']\n"
   ]
  },
  {
   "cell_type": "code",
   "execution_count": 5,
   "id": "434fe59a",
   "metadata": {},
   "outputs": [
    {
     "data": {
      "text/html": [
       "<div>\n",
       "<style scoped>\n",
       "    .dataframe tbody tr th:only-of-type {\n",
       "        vertical-align: middle;\n",
       "    }\n",
       "\n",
       "    .dataframe tbody tr th {\n",
       "        vertical-align: top;\n",
       "    }\n",
       "\n",
       "    .dataframe thead th {\n",
       "        text-align: right;\n",
       "    }\n",
       "</style>\n",
       "<table border=\"1\" class=\"dataframe\">\n",
       "  <thead>\n",
       "    <tr style=\"text-align: right;\">\n",
       "      <th></th>\n",
       "      <th>label</th>\n",
       "      <th>tweet</th>\n",
       "    </tr>\n",
       "  </thead>\n",
       "  <tbody>\n",
       "    <tr>\n",
       "      <th>1</th>\n",
       "      <td>positive</td>\n",
       "      <td>@VirginAmerica plus you've added commercials t...</td>\n",
       "    </tr>\n",
       "    <tr>\n",
       "      <th>3</th>\n",
       "      <td>negative</td>\n",
       "      <td>@VirginAmerica it's really aggressive to blast...</td>\n",
       "    </tr>\n",
       "    <tr>\n",
       "      <th>4</th>\n",
       "      <td>negative</td>\n",
       "      <td>@VirginAmerica and it's a really big bad thing...</td>\n",
       "    </tr>\n",
       "    <tr>\n",
       "      <th>5</th>\n",
       "      <td>negative</td>\n",
       "      <td>@VirginAmerica seriously would pay $30 a fligh...</td>\n",
       "    </tr>\n",
       "    <tr>\n",
       "      <th>6</th>\n",
       "      <td>positive</td>\n",
       "      <td>@VirginAmerica yes, nearly every time I fly VX...</td>\n",
       "    </tr>\n",
       "    <tr>\n",
       "      <th>...</th>\n",
       "      <td>...</td>\n",
       "      <td>...</td>\n",
       "    </tr>\n",
       "    <tr>\n",
       "      <th>14633</th>\n",
       "      <td>negative</td>\n",
       "      <td>@AmericanAir my flight was Cancelled Flightled...</td>\n",
       "    </tr>\n",
       "    <tr>\n",
       "      <th>14634</th>\n",
       "      <td>negative</td>\n",
       "      <td>@AmericanAir right on cue with the delays👌</td>\n",
       "    </tr>\n",
       "    <tr>\n",
       "      <th>14635</th>\n",
       "      <td>positive</td>\n",
       "      <td>@AmericanAir thank you we got on a different f...</td>\n",
       "    </tr>\n",
       "    <tr>\n",
       "      <th>14636</th>\n",
       "      <td>negative</td>\n",
       "      <td>@AmericanAir leaving over 20 minutes Late Flig...</td>\n",
       "    </tr>\n",
       "    <tr>\n",
       "      <th>14638</th>\n",
       "      <td>negative</td>\n",
       "      <td>@AmericanAir you have my money, you change my ...</td>\n",
       "    </tr>\n",
       "  </tbody>\n",
       "</table>\n",
       "<p>11541 rows × 2 columns</p>\n",
       "</div>"
      ],
      "text/plain": [
       "          label                                              tweet\n",
       "1      positive  @VirginAmerica plus you've added commercials t...\n",
       "3      negative  @VirginAmerica it's really aggressive to blast...\n",
       "4      negative  @VirginAmerica and it's a really big bad thing...\n",
       "5      negative  @VirginAmerica seriously would pay $30 a fligh...\n",
       "6      positive  @VirginAmerica yes, nearly every time I fly VX...\n",
       "...         ...                                                ...\n",
       "14633  negative  @AmericanAir my flight was Cancelled Flightled...\n",
       "14634  negative         @AmericanAir right on cue with the delays👌\n",
       "14635  positive  @AmericanAir thank you we got on a different f...\n",
       "14636  negative  @AmericanAir leaving over 20 minutes Late Flig...\n",
       "14638  negative  @AmericanAir you have my money, you change my ...\n",
       "\n",
       "[11541 rows x 2 columns]"
      ]
     },
     "execution_count": 5,
     "metadata": {},
     "output_type": "execute_result"
    }
   ],
   "source": [
    "tweets_filtered"
   ]
  },
  {
   "cell_type": "markdown",
   "id": "87702d6a",
   "metadata": {},
   "source": [
    "# Data Preprocessing "
   ]
  },
  {
   "cell_type": "code",
   "execution_count": 6,
   "id": "a08ac5b8",
   "metadata": {},
   "outputs": [],
   "source": [
    "def clean_tweet(tweet):\n",
    "    lemmatizer = WordNetLemmatizer() # lemmatizer return word in it's base noun (root)\n",
    "    twt_tokenizer= TweetTokenizer(strip_handles=True) # tokenizer convert string into token\n",
    "    tokens = twt_tokenizer.tokenize(tweet) \n",
    "    stops = stopwords.words('english')+ list(string.punctuation) # list of stopwords and punctuation\n",
    "    no_stops_sentence = []\n",
    "    for w in tokens: # removing stop words\n",
    "        if w not in stops:\n",
    "            no_stops_sentence.append(w)\n",
    "    no_hashtag_sentence = []\n",
    "    for w in no_stops_sentence: # removing # from words using regex\n",
    "        no_hashtag_sentence.append(re.sub('#','',w))\n",
    "    no_url_sentence=[]\n",
    "    for w in no_hashtag_sentence: # removing www from urls using regex\n",
    "        no_url_sentence.append(re.sub('www\\S','',w))\n",
    "    no_http_sentence=[]\n",
    "    for w in no_url_sentence: # removing http from urls using regex\n",
    "        no_http_sentence.append(re.sub('http','',w))\n",
    "    lemma_sentence=[]\n",
    "    for w in no_http_sentence: # lemmatizing all words to it's root\n",
    "        lemma_sentence.append(lemmatizer.lemmatize(w))\n",
    "    final_tokens=[]\n",
    "    for w in lemma_sentence: # removing no length words\n",
    "        if len(w)>1:\n",
    "            final_tokens.append(w)\n",
    "    final_sentence=\"\"\n",
    "    for w in final_tokens:\n",
    "        final_sentence=final_sentence+' '+w\n",
    "    return final_sentence\n",
    "\n",
    "\n",
    "        \n",
    "    "
   ]
  },
  {
   "cell_type": "code",
   "execution_count": 7,
   "id": "6caf348f",
   "metadata": {},
   "outputs": [
    {
     "name": "stderr",
     "output_type": "stream",
     "text": [
      "<ipython-input-7-a11778b17879>:1: SettingWithCopyWarning: \n",
      "A value is trying to be set on a copy of a slice from a DataFrame.\n",
      "Try using .loc[row_indexer,col_indexer] = value instead\n",
      "\n",
      "See the caveats in the documentation: https://pandas.pydata.org/pandas-docs/stable/user_guide/indexing.html#returning-a-view-versus-a-copy\n",
      "  tweets_filtered['tweet']=tweets_filtered['tweet'].apply(clean_tweet)\n"
     ]
    }
   ],
   "source": [
    "tweets_filtered['tweet']=tweets_filtered['tweet'].apply(clean_tweet)"
   ]
  },
  {
   "cell_type": "code",
   "execution_count": 8,
   "id": "6f70b84d",
   "metadata": {},
   "outputs": [],
   "source": [
    "y=tweets_filtered['label']"
   ]
  },
  {
   "cell_type": "code",
   "execution_count": 19,
   "id": "31afbc09",
   "metadata": {},
   "outputs": [
    {
     "data": {
      "text/html": [
       "<div>\n",
       "<style scoped>\n",
       "    .dataframe tbody tr th:only-of-type {\n",
       "        vertical-align: middle;\n",
       "    }\n",
       "\n",
       "    .dataframe tbody tr th {\n",
       "        vertical-align: top;\n",
       "    }\n",
       "\n",
       "    .dataframe thead th {\n",
       "        text-align: right;\n",
       "    }\n",
       "</style>\n",
       "<table border=\"1\" class=\"dataframe\">\n",
       "  <thead>\n",
       "    <tr style=\"text-align: right;\">\n",
       "      <th></th>\n",
       "      <th>label</th>\n",
       "      <th>tweet</th>\n",
       "    </tr>\n",
       "  </thead>\n",
       "  <tbody>\n",
       "    <tr>\n",
       "      <th>1</th>\n",
       "      <td>positive</td>\n",
       "      <td>plus added commercial experience ... tacky</td>\n",
       "    </tr>\n",
       "    <tr>\n",
       "      <th>3</th>\n",
       "      <td>negative</td>\n",
       "      <td>really aggressive blast obnoxious entertainme...</td>\n",
       "    </tr>\n",
       "    <tr>\n",
       "      <th>4</th>\n",
       "      <td>negative</td>\n",
       "      <td>really big bad thing</td>\n",
       "    </tr>\n",
       "    <tr>\n",
       "      <th>5</th>\n",
       "      <td>negative</td>\n",
       "      <td>seriously would pay 30 flight seat playing re...</td>\n",
       "    </tr>\n",
       "    <tr>\n",
       "      <th>6</th>\n",
       "      <td>positive</td>\n",
       "      <td>yes nearly every time fly VX ear worm go away :)</td>\n",
       "    </tr>\n",
       "    <tr>\n",
       "      <th>...</th>\n",
       "      <td>...</td>\n",
       "      <td>...</td>\n",
       "    </tr>\n",
       "    <tr>\n",
       "      <th>14633</th>\n",
       "      <td>negative</td>\n",
       "      <td>flight Cancelled Flightled leaving tomorrow m...</td>\n",
       "    </tr>\n",
       "    <tr>\n",
       "      <th>14634</th>\n",
       "      <td>negative</td>\n",
       "      <td>right cue delay</td>\n",
       "    </tr>\n",
       "    <tr>\n",
       "      <th>14635</th>\n",
       "      <td>positive</td>\n",
       "      <td>thank got different flight Chicago</td>\n",
       "    </tr>\n",
       "    <tr>\n",
       "      <th>14636</th>\n",
       "      <td>negative</td>\n",
       "      <td>leaving 20 minute Late Flight No warning comm...</td>\n",
       "    </tr>\n",
       "    <tr>\n",
       "      <th>14638</th>\n",
       "      <td>negative</td>\n",
       "      <td>money change flight answer phone Any suggesti...</td>\n",
       "    </tr>\n",
       "  </tbody>\n",
       "</table>\n",
       "<p>11541 rows × 2 columns</p>\n",
       "</div>"
      ],
      "text/plain": [
       "          label                                              tweet\n",
       "1      positive         plus added commercial experience ... tacky\n",
       "3      negative   really aggressive blast obnoxious entertainme...\n",
       "4      negative                               really big bad thing\n",
       "5      negative   seriously would pay 30 flight seat playing re...\n",
       "6      positive   yes nearly every time fly VX ear worm go away :)\n",
       "...         ...                                                ...\n",
       "14633  negative   flight Cancelled Flightled leaving tomorrow m...\n",
       "14634  negative                                    right cue delay\n",
       "14635  positive                 thank got different flight Chicago\n",
       "14636  negative   leaving 20 minute Late Flight No warning comm...\n",
       "14638  negative   money change flight answer phone Any suggesti...\n",
       "\n",
       "[11541 rows x 2 columns]"
      ]
     },
     "execution_count": 19,
     "metadata": {},
     "output_type": "execute_result"
    }
   ],
   "source": [
    "tweets_filtered"
   ]
  },
  {
   "cell_type": "markdown",
   "id": "ba65d458",
   "metadata": {},
   "source": [
    "# Feature engineering"
   ]
  },
  {
   "cell_type": "code",
   "execution_count": 10,
   "id": "a55a19dd",
   "metadata": {},
   "outputs": [],
   "source": [
    "bow_vectorizer = CountVectorizer() #bag of words \n",
    "X_bow = bow_vectorizer.fit_transform(tweets_filtered['tweet']) # train and transform dataset into number"
   ]
  },
  {
   "cell_type": "code",
   "execution_count": 11,
   "id": "63d1330e",
   "metadata": {},
   "outputs": [],
   "source": [
    "tfidf_vectorizer = TfidfVectorizer()\n",
    "X_tfidf = tfidf_vectorizer.fit_transform(tweets_filtered['tweet'])"
   ]
  },
  {
   "cell_type": "markdown",
   "id": "056d57ca",
   "metadata": {},
   "source": [
    "## train_test_split"
   ]
  },
  {
   "cell_type": "code",
   "execution_count": 12,
   "id": "fab9d36b",
   "metadata": {},
   "outputs": [],
   "source": [
    "X_bow_train, X_bow_test, y_bow_train, y_bow_test = train_test_split(\n",
    "    X_bow, y, test_size=0.20, random_state=42)"
   ]
  },
  {
   "cell_type": "code",
   "execution_count": 13,
   "id": "a208e75f",
   "metadata": {},
   "outputs": [],
   "source": [
    "X_tfidf_train, X_tfidf_test, y_tfidf_train, y_tfidf_test = train_test_split(\n",
    "    X_tfidf, y, test_size=0.20, random_state=42)"
   ]
  },
  {
   "cell_type": "markdown",
   "id": "54940da4",
   "metadata": {},
   "source": [
    "# Modeling"
   ]
  },
  {
   "cell_type": "markdown",
   "id": "83ed3095",
   "metadata": {},
   "source": [
    "### Random forest with bow"
   ]
  },
  {
   "cell_type": "code",
   "execution_count": 14,
   "id": "34d3ef5b",
   "metadata": {},
   "outputs": [
    {
     "data": {
      "text/plain": [
       "0.8973581637072325"
      ]
     },
     "execution_count": 14,
     "metadata": {},
     "output_type": "execute_result"
    }
   ],
   "source": [
    "clf = RandomForestClassifier(random_state=99) \n",
    "clf.fit(X_bow_train, y_bow_train)\n",
    "clf.score(X_bow_test, y_bow_test)"
   ]
  },
  {
   "cell_type": "code",
   "execution_count": 34,
   "id": "8c6b0dc7",
   "metadata": {},
   "outputs": [],
   "source": [
    "y_pred_bow_proba=clf.predict_proba(X_bow_test)\n",
    "y_pred_bow=[]\n",
    "for x in y_pred_bow_proba:\n",
    "    if(x[0]>0.55):\n",
    "        y_pred_bow.append('negative')\n",
    "    else:\n",
    "        y_pred_bow.append('positive')"
   ]
  },
  {
   "cell_type": "code",
   "execution_count": 35,
   "id": "3c0a2a76",
   "metadata": {},
   "outputs": [
    {
     "data": {
      "text/plain": [
       "11825    negative\n",
       "8105     positive\n",
       "1279     negative\n",
       "14343    negative\n",
       "3829     positive\n",
       "           ...   \n",
       "4927     positive\n",
       "7527     negative\n",
       "11445    negative\n",
       "13388    positive\n",
       "6482     negative\n",
       "Name: label, Length: 2309, dtype: object"
      ]
     },
     "execution_count": 35,
     "metadata": {},
     "output_type": "execute_result"
    }
   ],
   "source": [
    "y_bow_test\n"
   ]
  },
  {
   "cell_type": "code",
   "execution_count": 36,
   "id": "fbfbe83e",
   "metadata": {},
   "outputs": [
    {
     "name": "stdout",
     "output_type": "stream",
     "text": [
      "              precision    recall  f1-score   support\n",
      "\n",
      "    negative       0.93      0.94      0.93      1862\n",
      "    positive       0.74      0.69      0.72       447\n",
      "\n",
      "    accuracy                           0.89      2309\n",
      "   macro avg       0.83      0.82      0.82      2309\n",
      "weighted avg       0.89      0.89      0.89      2309\n",
      "\n"
     ]
    }
   ],
   "source": [
    "print(classification_report(y_bow_test, y_pred_bow))\n"
   ]
  },
  {
   "cell_type": "markdown",
   "id": "0381c955",
   "metadata": {},
   "source": [
    "### Random forest with tfidf"
   ]
  },
  {
   "cell_type": "code",
   "execution_count": 16,
   "id": "f9c5f9d7",
   "metadata": {},
   "outputs": [
    {
     "data": {
      "text/plain": [
       "0.8960588999566912"
      ]
     },
     "execution_count": 16,
     "metadata": {},
     "output_type": "execute_result"
    }
   ],
   "source": [
    "clf_tfidf = RandomForestClassifier(random_state=99) #\n",
    "clf_tfidf.fit(X_tfidf_train, y_tfidf_train) #training\n",
    "clf_tfidf.score(X_tfidf_test, y_tfidf_test)"
   ]
  },
  {
   "cell_type": "code",
   "execution_count": 17,
   "id": "8c48b4f2",
   "metadata": {},
   "outputs": [
    {
     "name": "stdout",
     "output_type": "stream",
     "text": [
      "              precision    recall  f1-score   support\n",
      "\n",
      "    negative       0.94      0.89      0.91      1862\n",
      "    positive       0.62      0.77      0.69       447\n",
      "\n",
      "    accuracy                           0.87      2309\n",
      "   macro avg       0.78      0.83      0.80      2309\n",
      "weighted avg       0.88      0.87      0.87      2309\n",
      "\n"
     ]
    }
   ],
   "source": [
    "y_pred_tfidf=clf_tfidf.predict(X_bow_test)\n",
    "print(classification_report(y_bow_test, y_pred_tfidf))\n"
   ]
  },
  {
   "cell_type": "code",
   "execution_count": 18,
   "id": "c3f0ed82",
   "metadata": {},
   "outputs": [
    {
     "data": {
      "text/plain": [
       "['bow.joblib']"
      ]
     },
     "execution_count": 18,
     "metadata": {},
     "output_type": "execute_result"
    }
   ],
   "source": [
    "from joblib import dump, load #dump save\n",
    "dump(clf, 'rnd.joblib') \n",
    "dump(bow_vectorizer, 'bow.joblib') \n"
   ]
  },
  {
   "cell_type": "code",
   "execution_count": null,
   "id": "b07b68b4",
   "metadata": {},
   "outputs": [],
   "source": []
  }
 ],
 "metadata": {
  "kernelspec": {
   "display_name": "Python 3",
   "language": "python",
   "name": "python3"
  },
  "language_info": {
   "codemirror_mode": {
    "name": "ipython",
    "version": 3
   },
   "file_extension": ".py",
   "mimetype": "text/x-python",
   "name": "python",
   "nbconvert_exporter": "python",
   "pygments_lexer": "ipython3",
   "version": "3.8.8"
  }
 },
 "nbformat": 4,
 "nbformat_minor": 5
}
