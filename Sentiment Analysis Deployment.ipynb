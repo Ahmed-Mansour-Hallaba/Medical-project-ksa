{
 "cells": [
  {
   "cell_type": "code",
   "execution_count": 1,
   "id": "f4b7a661",
   "metadata": {},
   "outputs": [],
   "source": [
    "from joblib import dump, load\n",
    "import numpy as np \n",
    "import pandas as pd\n",
    "from nltk.tokenize import TweetTokenizer\n",
    "from nltk.corpus import stopwords\n",
    "import string, re\n",
    "from nltk.stem import WordNetLemmatizer\n",
    "from sklearn.feature_extraction.text import CountVectorizer,TfidfVectorizer\n",
    "from sklearn.model_selection import train_test_split\n",
    "from sklearn.ensemble import RandomForestClassifier\n",
    "from sklearn.metrics import classification_report\n",
    "from flask import Flask, request, jsonify\n",
    "from flask_cors import CORS"
   ]
  },
  {
   "cell_type": "code",
   "execution_count": 2,
   "id": "30fb7221",
   "metadata": {},
   "outputs": [
    {
     "data": {
      "text/plain": [
       "<flask_cors.extension.CORS at 0x298feb2c3a0>"
      ]
     },
     "execution_count": 2,
     "metadata": {},
     "output_type": "execute_result"
    }
   ],
   "source": [
    "app = Flask(__name__)\n",
    "CORS(app)"
   ]
  },
  {
   "cell_type": "code",
   "execution_count": 3,
   "id": "ab7efaca",
   "metadata": {},
   "outputs": [],
   "source": [
    "clf_rnd = load('rnd.joblib') \n",
    "bow= load('bow.joblib')"
   ]
  },
  {
   "cell_type": "code",
   "execution_count": 4,
   "id": "160276e3",
   "metadata": {},
   "outputs": [],
   "source": [
    "def clean_tweet(tweet):\n",
    "    lemmatizer = WordNetLemmatizer() # lemmatizer return word in it's base noun (root)\n",
    "    twt_tokenizer= TweetTokenizer(strip_handles=True) # tokenizer convert string into token\n",
    "    tokens = twt_tokenizer.tokenize(tweet) \n",
    "    stops = stopwords.words('english')+ list(string.punctuation) # list of stopwords and punctuation\n",
    "    no_stops_sentence = []\n",
    "    for w in tokens: # removing stop words\n",
    "        if w not in stops:\n",
    "            no_stops_sentence.append(w)\n",
    "    no_hashtag_sentence = []\n",
    "    for w in no_stops_sentence: # removing # from words using regex\n",
    "        no_hashtag_sentence.append(re.sub('#','',w))\n",
    "    no_url_sentence=[]\n",
    "    for w in no_hashtag_sentence: # removing www from urls using regex\n",
    "        no_url_sentence.append(re.sub('www\\S','',w))\n",
    "    no_http_sentence=[]\n",
    "    for w in no_url_sentence: # removing http from urls using regex\n",
    "        no_http_sentence.append(re.sub('http','',w))\n",
    "    lemma_sentence=[]\n",
    "    for w in no_http_sentence: # lemmatizing all words to it's root\n",
    "        lemma_sentence.append(lemmatizer.lemmatize(w))\n",
    "    final_tokens=[]\n",
    "    for w in lemma_sentence: # removing no length words\n",
    "        if len(w)>1:\n",
    "            final_tokens.append(w)\n",
    "    final_sentence=\"\"\n",
    "    for w in final_tokens:\n",
    "        final_sentence=final_sentence+' '+w\n",
    "    return final_sentence\n",
    "\n",
    "\n",
    "        \n",
    "    "
   ]
  },
  {
   "cell_type": "code",
   "execution_count": 5,
   "id": "6baec38a",
   "metadata": {},
   "outputs": [],
   "source": [
    "@app.route('/predict/comment',methods=['POST'])\n",
    "def predict_api():\n",
    "    json_data = request.json\n",
    "    cleaned_text=clean_tweet(json_data['comment'])\n",
    "    transformed_text=bow.transform([cleaned_text])\n",
    "    prediction_proba=clf_rnd.predict_proba(transformed_text)\n",
    "    if(prediction_proba[0][0]>0.65):\n",
    "        result=0\n",
    "    else:\n",
    "        result=1\n",
    "\n",
    "    return jsonify({'result':result})  #will return the json\n"
   ]
  },
  {
   "cell_type": "code",
   "execution_count": null,
   "id": "2acbeb0e",
   "metadata": {},
   "outputs": [
    {
     "name": "stdout",
     "output_type": "stream",
     "text": [
      " * Serving Flask app \"__main__\" (lazy loading)\n",
      " * Environment: production\n",
      "   WARNING: This is a development server. Do not use it in a production deployment.\n",
      "   Use a production WSGI server instead.\n",
      " * Debug mode: off\n"
     ]
    },
    {
     "name": "stderr",
     "output_type": "stream",
     "text": [
      " * Running on http://127.0.0.1:5000/ (Press CTRL+C to quit)\n"
     ]
    }
   ],
   "source": [
    "if __name__ == \"__main__\":\n",
    "    app.run()\n"
   ]
  },
  {
   "cell_type": "code",
   "execution_count": null,
   "id": "e65c09be",
   "metadata": {},
   "outputs": [],
   "source": []
  }
 ],
 "metadata": {
  "kernelspec": {
   "display_name": "Python 3",
   "language": "python",
   "name": "python3"
  },
  "language_info": {
   "codemirror_mode": {
    "name": "ipython",
    "version": 3
   },
   "file_extension": ".py",
   "mimetype": "text/x-python",
   "name": "python",
   "nbconvert_exporter": "python",
   "pygments_lexer": "ipython3",
   "version": "3.8.8"
  }
 },
 "nbformat": 4,
 "nbformat_minor": 5
}
